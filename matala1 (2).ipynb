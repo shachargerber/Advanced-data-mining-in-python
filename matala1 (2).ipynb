{
 "cells": [
  {
   "cell_type": "code",
   "execution_count": 31,
   "metadata": {},
   "outputs": [],
   "source": [
    "##Q1"
   ]
  },
  {
   "cell_type": "code",
   "execution_count": 38,
   "metadata": {},
   "outputs": [],
   "source": [
    "def my_func(x1,x2,x3):\n",
    "    if type(x1)!=float and type(x1)!=int or type(x2)!=float and type(x2)!=int or type(x3)!=float and type(x3)!=int:\n",
    "        ans = None\n",
    "    elif type(x1)==int or type(x2)==int or type(x3)==int :\n",
    "        ans = 'Error: parameters should be float'\n",
    "    elif x1+x2+x3 == 0:\n",
    "        ans = 'not a number - denominator equals zero'\n",
    "    else:\n",
    "        ans = (((x1+x2+x3)*(x2+x3)*x3)/(x1+x2+x3))\n",
    "    return(ans)"
   ]
  },
  {
   "cell_type": "code",
   "execution_count": 39,
   "metadata": {},
   "outputs": [
    {
     "name": "stdout",
     "output_type": "stream",
     "text": [
      "16.12\n"
     ]
    }
   ],
   "source": [
    "print(my_func(1.1,2.1,3.1))"
   ]
  },
  {
   "cell_type": "code",
   "execution_count": 40,
   "metadata": {},
   "outputs": [
    {
     "name": "stdout",
     "output_type": "stream",
     "text": [
      "Error: parameters should be float\n"
     ]
    }
   ],
   "source": [
    "print(my_func(1,2,3))"
   ]
  },
  {
   "cell_type": "code",
   "execution_count": 41,
   "metadata": {},
   "outputs": [
    {
     "name": "stdout",
     "output_type": "stream",
     "text": [
      "not a number - denominator equals zero\n"
     ]
    }
   ],
   "source": [
    "print(my_func(-1.0,2.0,-1.0))"
   ]
  },
  {
   "cell_type": "code",
   "execution_count": 42,
   "metadata": {},
   "outputs": [
    {
     "name": "stdout",
     "output_type": "stream",
     "text": [
      "None\n"
     ]
    }
   ],
   "source": [
    "print(my_func('hello',2,3))"
   ]
  },
  {
   "cell_type": "code",
   "execution_count": null,
   "metadata": {},
   "outputs": [],
   "source": [
    "##q2"
   ]
  },
  {
   "cell_type": "code",
   "execution_count": 46,
   "metadata": {},
   "outputs": [],
   "source": [
    "def revword(word):\n",
    "    new_word = ''\n",
    "    for i in word:\n",
    "        new_word = i+new_word\n",
    "    new_word = new_word.lower()\n",
    "    return(new_word) "
   ]
  },
  {
   "cell_type": "code",
   "execution_count": 70,
   "metadata": {},
   "outputs": [
    {
     "name": "stdout",
     "output_type": "stream",
     "text": [
      "david\n"
     ]
    }
   ],
   "source": [
    "print(revword('Divad'))"
   ]
  },
  {
   "cell_type": "code",
   "execution_count": 69,
   "metadata": {},
   "outputs": [],
   "source": [
    "def countword():\n",
    "    file = open('C:/Users/shach/Desktop/third year/semester b/python/matala1/text.txt')\n",
    "    count = 1\n",
    "    for i in file:\n",
    "        all_words = i.split(' ')\n",
    "        if len(all_words)==1:\n",
    "            word1 = all_words[0].lower().strip()\n",
    "        else:\n",
    "            for m in all_words:\n",
    "                word = revword(m).strip()\n",
    "                if word == word1:\n",
    "                    count = count+1\n",
    "    return(count)    "
   ]
  },
  {
   "cell_type": "code",
   "execution_count": 68,
   "metadata": {},
   "outputs": [
    {
     "name": "stdout",
     "output_type": "stream",
     "text": [
      "6\n"
     ]
    }
   ],
   "source": [
    "print(countword())"
   ]
  },
  {
   "cell_type": "code",
   "execution_count": null,
   "metadata": {},
   "outputs": [],
   "source": [
    "\n"
   ]
  }
 ],
 "metadata": {
  "kernelspec": {
   "display_name": "Python 3",
   "language": "python",
   "name": "python3"
  },
  "language_info": {
   "codemirror_mode": {
    "name": "ipython",
    "version": 3
   },
   "file_extension": ".py",
   "mimetype": "text/x-python",
   "name": "python",
   "nbconvert_exporter": "python",
   "pygments_lexer": "ipython3",
   "version": "3.8.5"
  }
 },
 "nbformat": 4,
 "nbformat_minor": 4
}
